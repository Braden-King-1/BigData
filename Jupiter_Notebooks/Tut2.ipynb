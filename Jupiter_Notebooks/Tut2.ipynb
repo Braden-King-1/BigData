{
 "cells": [
  {
   "cell_type": "code",
   "execution_count": 3,
   "metadata": {},
   "outputs": [
    {
     "name": "stdout",
     "output_type": "stream",
     "text": [
      "It's cool!\n"
     ]
    }
   ],
   "source": [
    "degrees = int(input(\"Enter temperature in Celsius: \"))\n",
    "if degrees < 0:\n",
    "    print(\"It's freezing! Wear a heavy jacket!\")\n",
    "elif degrees <= 15:\n",
    "    print(\"It's cold!\")\n",
    "elif degrees <= 25:\n",
    "    print(\"It's cool!\")\n",
    "elif degrees > 25:\n",
    "    print(\"It's hot!\")\n"
   ]
  },
  {
   "cell_type": "code",
   "execution_count": 14,
   "metadata": {},
   "outputs": [
    {
     "name": "stdout",
     "output_type": "stream",
     "text": [
      "o o o o o \n",
      "o o o o o \n",
      "o o o o o \n",
      "o o o o o \n",
      "o o o o o \n"
     ]
    }
   ],
   "source": [
    "for i in range(5):\n",
    "    for j in range(5):\n",
    "        print(\"o\", end=\" \")\n",
    "    print()\n",
    "\n"
   ]
  },
  {
   "cell_type": "code",
   "execution_count": 32,
   "metadata": {},
   "outputs": [
    {
     "name": "stdout",
     "output_type": "stream",
     "text": [
      "o \n",
      "o o \n",
      "o o o \n",
      "o o o o \n",
      "o o o o o \n"
     ]
    }
   ],
   "source": [
    "for i in range(5):\n",
    "    for j in range(i+1):\n",
    "        print(\"o\", end=\" \")\n",
    "    print()\n"
   ]
  },
  {
   "cell_type": "code",
   "execution_count": 30,
   "metadata": {},
   "outputs": [
    {
     "name": "stdout",
     "output_type": "stream",
     "text": [
      "8\n"
     ]
    }
   ],
   "source": [
    "def add_numbers(a, b):\n",
    "    ...\n",
    "    \"\"\"Add two numbers and return the result.\"\"\"\n",
    "    ...\n",
    "    return a + b\n",
    "result = add_numbers(3, 5)\n",
    "print(result)"
   ]
  },
  {
   "cell_type": "code",
   "execution_count": 29,
   "metadata": {},
   "outputs": [
    {
     "name": "stdout",
     "output_type": "stream",
     "text": [
      "78.5\n"
     ]
    }
   ],
   "source": [
    "def circle_area(radius):\n",
    "    \"\"\"Calculate the area of a circle.\"\"\"\n",
    "    return 3.14 * radius ** 2\n",
    "area = circle_area(5)\n",
    "print(area)"
   ]
  }
 ],
 "metadata": {
  "kernelspec": {
   "display_name": "Python 3",
   "language": "python",
   "name": "python3"
  },
  "language_info": {
   "codemirror_mode": {
    "name": "ipython",
    "version": 3
   },
   "file_extension": ".py",
   "mimetype": "text/x-python",
   "name": "python",
   "nbconvert_exporter": "python",
   "pygments_lexer": "ipython3",
   "version": "3.10.12"
  }
 },
 "nbformat": 4,
 "nbformat_minor": 2
}
