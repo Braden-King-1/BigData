{
 "cells": [
  {
   "cell_type": "markdown",
   "metadata": {},
   "source": [
    "Check if a number is prime"
   ]
  },
  {
   "cell_type": "code",
   "execution_count": 17,
   "metadata": {},
   "outputs": [
    {
     "name": "stdout",
     "output_type": "stream",
     "text": [
      "0 is not a prime number\n"
     ]
    }
   ],
   "source": [
    "# Ask the user to enter a number\n",
    "numPrime = int(input(\"Enter a number you want to check is prime or not: \"))\n",
    "\n",
    "# A prime number must be greater than 1\n",
    "if numPrime > 1:\n",
    "    # Loop through all numbers from 2 up to numPrime\n",
    "    for i in range(2, numPrime):\n",
    "        # Check if numPrime is divisible by i with no remainder\n",
    "        if (numPrime % i) == 0:\n",
    "            print(numPrime, \"is not a prime number\")\n",
    "            # Exit the loop early since we have determined it's not a prime\n",
    "            break\n",
    "    else:\n",
    "        # If the loop completes without finding any divisible numbers then the number is prime\n",
    "        print(numPrime, \"is a prime number\")\n",
    "else:\n",
    "    # If numPrime is not greater than 1, it cannot be prime\n",
    "    print(numPrime, \"is not a prime number\")\n"
   ]
  },
  {
   "cell_type": "markdown",
   "metadata": {},
   "source": [
    "Display the Fibonacci sequence up to n-th term"
   ]
  },
  {
   "cell_type": "code",
   "execution_count": null,
   "metadata": {},
   "outputs": [
    {
     "name": "stdout",
     "output_type": "stream",
     "text": [
      "The first term is: 0\n",
      "0\n"
     ]
    }
   ],
   "source": [
    "# Ask the user for the number of Fibonacci terms to display\n",
    "nterms = int(input(\"How many numbers in Fibonacci do you want to be calculated and displayed?\"))\n",
    "\n",
    "# Set the first two numbers of the Fibonacci sequence\n",
    "n1, n2 = 0, 1\n",
    "count = 0\n",
    "\n",
    "# Keep asking until the user enters a positive number\n",
    "while nterms <= 0:\n",
    "    print(\"Please enter a positive integer\")\n",
    "    nterms = int(input(\"How many numbers in Fibonacci do you want to be calculated and displayed?\"))\n",
    "\n",
    "# If only one term is needed, print the first term\n",
    "if nterms == 1:\n",
    "    print(\"The first term is:\", n1)\n",
    "else:\n",
    "    print(\"Fibonacci sequence:\")\n",
    "    # Print the Fibonacci sequence until the desired number of terms is reached\n",
    "    while count < nterms:\n",
    "        print(n1)\n",
    "        # Calculate the next Fibonacci number\n",
    "        nth = n1 + n2\n",
    "        # Update the previous two numbers\n",
    "        n1 = n2\n",
    "        n2 = nth\n",
    "        # Increase the count by 1\n",
    "        count += 1\n"
   ]
  },
  {
   "cell_type": "markdown",
   "metadata": {},
   "source": [
    "Printing a pattern"
   ]
  },
  {
   "cell_type": "code",
   "execution_count": null,
   "metadata": {},
   "outputs": [
    {
     "name": "stdout",
     "output_type": "stream",
     "text": [
      "* * * * * \n",
      "* * * * \n",
      "* * * \n",
      "* * \n",
      "* \n"
     ]
    }
   ],
   "source": [
    "# Loop through 5 iterations for the rows, i starts at 0 and goes to 4\n",
    "for i in range(5):\n",
    "    # For each row, print (5-i) stars\n",
    "    # The inner loop iterates (5-i) times\n",
    "    for j in range(5-i):\n",
    "        # Print a star followed by a space without moving to a new line\n",
    "        print(\"* \", end=\"\")\n",
    "    # After printing stars for the current row, move to the next line\n",
    "    print(\"\")\n"
   ]
  },
  {
   "cell_type": "markdown",
   "metadata": {},
   "source": [
    "Reversing a string"
   ]
  },
  {
   "cell_type": "code",
   "execution_count": 14,
   "metadata": {},
   "outputs": [
    {
     "name": "stdout",
     "output_type": "stream",
     "text": [
      "eb ot siht tnaw i olleh\n"
     ]
    }
   ],
   "source": [
    "# Ask the user to type in a string\n",
    "inputText = str(input(\"Enter a string you want to reverse: \"))\n",
    "\n",
    "# Define a function that reverses any given string\n",
    "def reverseText(inputText):\n",
    "    # [::-1] is a simple way to reverse a string: it starts at the end and goes backwards\n",
    "    return inputText[::-1]\n",
    "    \n",
    "# Call the function with the user's text and print the reversed version\n",
    "print(reverseText(inputText))\n"
   ]
  },
  {
   "cell_type": "markdown",
   "metadata": {},
   "source": []
  },
  {
   "cell_type": "markdown",
   "metadata": {},
   "source": [
    "Find the maximum and minimum numbers in a list"
   ]
  },
  {
   "cell_type": "code",
   "execution_count": null,
   "metadata": {},
   "outputs": [
    {
     "name": "stdout",
     "output_type": "stream",
     "text": [
      "Min value is: 2.0\n",
      "Max value is: 4324.0\n"
     ]
    }
   ],
   "source": [
    "# Define a function that accepts any iterable of numbers\n",
    "def find_min_max(numbers):\n",
    "    # Calculate the minimum and maximum using built-in functions\n",
    "    min_value = min(numbers)\n",
    "    max_value = max(numbers)\n",
    "    # Return both values as a tuple\n",
    "    return min_value, max_value\n",
    "\n",
    "# Ask the user to input numbers separated by spaces\n",
    "user_input = input(\"Enter numbers separated by spaces: \")\n",
    "\n",
    "# Convert the input string into a list of numbers\n",
    "numbers = [float(num) for num in user_input.split()]\n",
    "\n",
    "# Unpack the tuple returned by find_min_max into two variables\n",
    "minimum, maximum = find_min_max(numbers)\n",
    "\n",
    "# Print the results with descriptive messages\n",
    "print(\"Min value is:\", minimum)\n",
    "print(\"Max value is:\", maximum)\n"
   ]
  },
  {
   "cell_type": "markdown",
   "metadata": {},
   "source": [
    "Guess the number game"
   ]
  },
  {
   "cell_type": "code",
   "execution_count": null,
   "metadata": {},
   "outputs": [],
   "source": [
    "# Import the random module to generate a random number\n",
    "import random  \n",
    "\n",
    "# Generate a secret number between 1 and 10\n",
    "secret_number = random.randint(1, 10)\n",
    "\n",
    "# Explain the game\n",
    "print(\"Welcome to the 'Guess the Number' game!\")\n",
    "print(\"I have chosen a secret number between 1 and 10.\")\n",
    "\n",
    "# Use an infinite loop to keep asking for guesses until the correct number is guessed\n",
    "while True:\n",
    "    # Ask the user for their guess and convert it to an integer\n",
    "    guess = int(input(\"Guess the secret number (between 1 and 10): \"))\n",
    "    \n",
    "    # Check if the guess is too low.\n",
    "    if guess < secret_number:\n",
    "        print(\"Too low! Try again.\")\n",
    "    # Check if the guess is too high.\n",
    "    elif guess > secret_number:\n",
    "        print(\"Too high! Try again.\")\n",
    "    # If the guess is neither too low nor too high, it must be correct\n",
    "    else:\n",
    "        print(\"Congratulations! You guessed the right number.\")\n",
    "        # Exit the loop since the user has guessed correctly\n",
    "        break\n"
   ]
  },
  {
   "cell_type": "markdown",
   "metadata": {},
   "source": [
    "Password checker with loop control"
   ]
  },
  {
   "cell_type": "code",
   "execution_count": null,
   "metadata": {},
   "outputs": [],
   "source": [
    "# Define the correct password\n",
    "correct_password = \"Python123\"\n",
    "\n",
    "# Start an infinite loop to repeatedly ask for the password\n",
    "while True:\n",
    "    # Ask the user to enter the password\n",
    "    user_password = input(\"Enter the password: \")\n",
    "    \n",
    "    # Check if the entered password matches the correct password\n",
    "    if user_password == correct_password:\n",
    "        # If correct, print success message and exit the loop\n",
    "        print(\"Access Granted!\")\n",
    "        break\n",
    "    else:\n",
    "        # If incorrect, print an error message and continue looping\n",
    "        print(\"Incorrect password. Try again.\")\n"
   ]
  },
  {
   "cell_type": "markdown",
   "metadata": {},
   "source": [
    "Solving a series using the math module "
   ]
  },
  {
   "cell_type": "code",
   "execution_count": null,
   "metadata": {},
   "outputs": [],
   "source": [
    "import math  # Import the math module to use the factorial function\n",
    "\n",
    "def solve_series(x, N):\n",
    "    \"\"\"\n",
    "    The series works like this: \n",
    "    x * 5^(2*1) / (1 + 2!) + x * 5^(2*2) / (2 + 3!) + ... up to N terms.\n",
    "    \n",
    "    x : The multiplier in each term.\n",
    "    N : The number of terms in the series.\n",
    "    \n",
    "    returns the sum of the whole series.\n",
    "    \"\"\"\n",
    "    # Initialize the accumulator for the series sum\n",
    "    total = 0  \n",
    "    # Loop from 1 to N to calculate each term in the series\n",
    "    for i in range(1, N + 1):\n",
    "        # Calculates the numerator\n",
    "        numerator = x * (5 ** (2 * i))\n",
    "        # Calculates the denominator\n",
    "        denominator = i + math.factorial(i + 1)\n",
    "        # Compute the current term\n",
    "        term = numerator / denominator\n",
    "        # Add the current term to the total sum\n",
    "        total += term\n",
    "    return total\n",
    "\n",
    "# Ask the user to input the value for x and N \n",
    "x = float(input(\"Enter the value of x: \"))\n",
    "N = int(input(\"Enter the number of terms (N): \"))\n",
    "\n",
    "# Calls the function to compute the series sum\n",
    "result = solve_series(x, N)\n",
    "\n",
    "# Prints the final result with a descriptive message\n",
    "print(\"The result of the series is:\", result)\n"
   ]
  },
  {
   "cell_type": "markdown",
   "metadata": {},
   "source": [
    "Load an image into a NumPy array and show horizontal and vertical mirror reflection copies of it"
   ]
  },
  {
   "cell_type": "code",
   "execution_count": null,
   "metadata": {},
   "outputs": [],
   "source": [
    "import numpy as np\n",
    "import matplotlib.pyplot as plt\n",
    "import PIL.Image\n",
    "import urllib.request\n",
    "\n",
    "# Load the image from the provided URL\n",
    "image_url = \"https://images.ctfassets.net/rt5zmd3ipxai/25pHfG94sGlRALOqbRvSxl/9f591d8263607fdf923b962cbfcde2a9/NVA-panda.jpg?fit=fill&fm=webp&h=678&w=1252&q=72\"\n",
    "# Open a connection to the URL and read the image data\n",
    "image_data = urllib.request.urlopen(image_url)\n",
    "# Open the image using PIL and convert it into an image object\n",
    "image = PIL.Image.open(image_data)\n",
    "# Convert the PIL image into a NumPy array for easier manipulation\n",
    "np_image = np.array(image)\n",
    "\n",
    "# Create a horizontal mirror of the image by flipping it left-to-right\n",
    "horizontal_mirror = np.fliplr(np_image)\n",
    "# Create a vertical mirror of the image by flipping it upside-down\n",
    "vertical_mirror = np.flipud(np_image)\n",
    "\n",
    "# Create a figure with a size of 18 inches wide by 6 inches tall to display the images\n",
    "plt.figure(figsize=(18, 6))\n",
    "\n",
    "# Plot the original image.\n",
    "plt.subplot(1, 3, 1)        # Create a subplot in a 1x3 grid, in the 1st position\n",
    "plt.imshow(np_image)        # Display the image\n",
    "plt.title(\"Original Image\") # Set the title for the subplot\n",
    "plt.axis(\"off\")             # Hide the axis for clarity\n",
    "\n",
    "# Plot the horizontal mirror image.\n",
    "plt.subplot(1, 3, 2)             # Create a subplot in a 1x3 grid, in the 2nd position\n",
    "plt.imshow(horizontal_mirror)    # Display the horizontal mirror image\n",
    "plt.title(\"Horizontal Mirror\")   # Set the title\n",
    "plt.axis(\"off\")                  # Hide the axis\n",
    "\n",
    "# Plot the vertical mirror image.\n",
    "plt.subplot(1, 3, 3)             # Create a subplot in a 1x3 grid, in the 3rd position\n",
    "plt.imshow(vertical_mirror)      # Display the vertical mirror image\n",
    "plt.title(\"Vertical Mirror\")     # Set the title\n",
    "plt.axis(\"off\")                  # Hide the axis\n",
    "\n",
    "# Show all the subplots in the figure.\n",
    "plt.show()\n",
    "\n"
   ]
  },
  {
   "cell_type": "markdown",
   "metadata": {},
   "source": [
    "Temperature data sorting and analysis"
   ]
  },
  {
   "cell_type": "code",
   "execution_count": null,
   "metadata": {},
   "outputs": [],
   "source": [
    "import numpy as np\n",
    "\n",
    "def process_temperature_data(temp_list):\n",
    "    \"\"\"\n",
    "    Process a list of Celsius temperatures and compute various statistics.\n",
    "    \n",
    "    temp_list: List of temperatures in Celsius.\n",
    "    \n",
    "    Returns:\n",
    "        dict: Contains the original array, min, max, average temperatures,\n",
    "              Fahrenheit conversion, temperatures above 25°C, count of days below 20°C,\n",
    "              sorted temperatures, and reshaped data into a 5x6 array.\n",
    "    \"\"\"\n",
    "    # Convert the list to a NumPy array.\n",
    "    temps = np.array(temp_list)\n",
    "    \n",
    "    # Compute minimum, maximum, and average temperatures.\n",
    "    min_temp = temps.min()\n",
    "    max_temp = temps.max()\n",
    "    avg_temp = temps.mean()\n",
    "    \n",
    "    # Convert temperatures from Celsius to Fahrenheit.\n",
    "    fahrenheit = temps * 9/5 + 32\n",
    "    \n",
    "    # Get all temperatures that are above 25°C.\n",
    "    days_above_25 = temps[temps > 25]\n",
    "    \n",
    "    # Count how many temperatures are below 20°C.\n",
    "    count_below_20 = np.sum(temps < 20)\n",
    "    \n",
    "    # Sort the temperatures in ascending order.\n",
    "    sorted_temps = np.sort(temps)\n",
    "    \n",
    "    # Reshape the array into 5 rows (weeks) and 6 columns (days per week).\n",
    "    reshaped_temps = temps.reshape(5, 6)\n",
    "    \n",
    "    return {\n",
    "        \"np_array\": temps,\n",
    "        \"min_temp\": min_temp,\n",
    "        \"max_temp\": max_temp,\n",
    "        \"avg_temp\": avg_temp,\n",
    "        \"fahrenheit\": fahrenheit,\n",
    "        \"days_above_25\": days_above_25,\n",
    "        \"count_below_20\": count_below_20,\n",
    "        \"sorted_temps\": sorted_temps,\n",
    "        \"reshaped_temps\": reshaped_temps\n",
    "    }\n",
    "\n",
    "# Define the temperature data provided in the exercise\n",
    "temp_data = [\n",
    "    22, 24, 19, 21, 23, 25, 26, 27, 24, 23,\n",
    "    20, 22, 21, 19, 18, 22, 23, 24, 26, 28,\n",
    "    30, 27, 25, 26, 24, 22, 21, 20, 19, 23\n",
    "]\n",
    "\n",
    "# Process the temperature data\n",
    "results = process_temperature_data(temp_data)\n",
    "\n",
    "# Print the results for each question\n",
    "print(\"Original Temperature Data (°C):\")\n",
    "print(results[\"np_array\"], \"\\n\")\n",
    "\n",
    "print(\"Minimum Temperature (°C):\", results[\"min_temp\"])\n",
    "print(\"Maximum Temperature (°C):\", results[\"max_temp\"])\n",
    "print(\"Average Temperature (°C):\", results[\"avg_temp\"], \"\\n\")\n",
    "\n",
    "print(\"Temperatures in Fahrenheit:\")\n",
    "print(results[\"fahrenheit\"], \"\\n\")\n",
    "\n",
    "print(\"Days with Temperature Above 25°C:\")\n",
    "print(results[\"days_above_25\"], \"\\n\")\n",
    "\n",
    "print(\"Count of Days with Temperature Below 20°C:\", results[\"count_below_20\"], \"\\n\")\n",
    "\n",
    "print(\"Sorted Temperature Data (Ascending Order):\")\n",
    "print(results[\"sorted_temps\"], \"\\n\")\n",
    "\n",
    "print(\"Reshaped Temperature Data (5 weeks x 6 days):\")\n",
    "print(results[\"reshaped_temps\"])\n"
   ]
  }
 ],
 "metadata": {
  "kernelspec": {
   "display_name": "Python 3",
   "language": "python",
   "name": "python3"
  },
  "language_info": {
   "codemirror_mode": {
    "name": "ipython",
    "version": 3
   },
   "file_extension": ".py",
   "mimetype": "text/x-python",
   "name": "python",
   "nbconvert_exporter": "python",
   "pygments_lexer": "ipython3",
   "version": "3.12.1"
  }
 },
 "nbformat": 4,
 "nbformat_minor": 2
}
