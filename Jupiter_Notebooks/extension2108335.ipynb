{
 "cells": [
  {
   "cell_type": "code",
   "execution_count": 1,
   "metadata": {},
   "outputs": [
    {
     "name": "stdout",
     "output_type": "stream",
     "text": [
      "17 is a prime number\n"
     ]
    }
   ],
   "source": [
    "numPrime = int(input(\"Enter a number you want to check is prime or not: \"))\n",
    "if numPrime > 1:\n",
    "    for i in range(2, numPrime):\n",
    "        if (numPrime % i) == 0:\n",
    "            print(numPrime, \"is not a prime number\")\n",
    "            break\n",
    "    else:\n",
    "        print(numPrime, \"is a prime number\")\n",
    "else:\n",
    "    print(numPrime, \"is not a prime number\")"
   ]
  },
  {
   "cell_type": "code",
   "execution_count": null,
   "metadata": {},
   "outputs": [],
   "source": [
    "# Program to display the Fibonacci sequence up to n-th term\n",
    "\n",
    "nterms = int(input(\"How many terms? \"))\n",
    "\n",
    "# first two terms\n",
    "n1, n2 = 0, 1\n",
    "count = 0\n",
    "\n",
    "# check if the number of terms is valid\n",
    "if nterms <= 0:\n",
    "   print(\"Please enter a positive integer\")\n",
    "# if there is only one term, return n1\n",
    "elif nterms == 1:\n",
    "   print(\"Fibonacci sequence upto\",nterms,\":\")\n",
    "   print(n1)\n",
    "# generate fibonacci sequence\n",
    "else:\n",
    "   print(\"Fibonacci sequence:\")\n",
    "   while count < nterms:\n",
    "       print(n1)\n",
    "       nth = n1 + n2\n",
    "       # update values\n",
    "       n1 = n2\n",
    "       n2 = nth\n",
    "       count += 1"
   ]
  },
  {
   "cell_type": "code",
   "execution_count": null,
   "metadata": {},
   "outputs": [],
   "source": [
    "for i in range(5):\n",
    "    for j in range(5-i):\n",
    "        print(\"* \", end=\"\")\n",
    "    print(\"\")"
   ]
  },
  {
   "cell_type": "code",
   "execution_count": null,
   "metadata": {},
   "outputs": [],
   "source": [
    "inputText = str(input(\"Enter a string you want to reverse: \"))\n",
    "\n",
    "def reverseText(inputText):\n",
    "    return inputText[::-1]\n",
    "    \n",
    "print(reverseText(inputText))"
   ]
  },
  {
   "cell_type": "code",
   "execution_count": null,
   "metadata": {},
   "outputs": [],
   "source": [
    "def find_min_max(numbers):\n",
    "    \"\"\"\n",
    "    Accepts any iterable of numbers and returns a tuple containing\n",
    "    the minimum and maximum values.\n",
    "    \"\"\"\n",
    "    return min(numbers), max(numbers)\n",
    "\n",
    "# Prompt the user to enter numbers separated by spaces\n",
    "user_input = input(\"Enter a list of numbers separated by spaces: \")\n",
    "\n",
    "# Convert the input string into a list of numbers (using float for generality)\n",
    "numbers_list = [float(num) for num in user_input.split()]\n",
    "\n",
    "# Get the minimum and maximum values from the list\n",
    "min_value, max_value = find_min_max(numbers_list)\n",
    "\n",
    "# Print the results with additional string literals\n",
    "print(\"Min value is:\", min_value)\n",
    "print(\"Max value is:\", max_value)"
   ]
  },
  {
   "cell_type": "code",
   "execution_count": null,
   "metadata": {},
   "outputs": [],
   "source": [
    "import random\n",
    "\n",
    "# Generate a secret number between 1 and 10\n",
    "secret_number = random.randint(1, 10)\n",
    "\n",
    "# Initialize guess with a value that is not equal to secret_number\n",
    "guess = None\n",
    "\n",
    "while guess != secret_number:\n",
    "    # Get user input and convert it to an integer\n",
    "    guess = int(input(\"Guess the secret number between 1 and 10: \"))\n",
    "    \n",
    "    if guess < secret_number:\n",
    "        print(\"Too low! Try again.\")\n",
    "    elif guess > secret_number:\n",
    "        print(\"Too high! Try again.\")\n",
    "\n",
    "print(\"Congratulations! You've guessed the correct number:\", secret_number)"
   ]
  },
  {
   "cell_type": "code",
   "execution_count": null,
   "metadata": {},
   "outputs": [],
   "source": [
    "# Set the correct password\n",
    "correct_password = \"Python123\"\n",
    "\n",
    "while True:\n",
    "    # Ask the user to input the password\n",
    "    user_password = input(\"Enter the password: \")\n",
    "    \n",
    "    # Check if the entered password is correct\n",
    "    if user_password == correct_password:\n",
    "        print(\"Access Granted!\")\n",
    "        break  # Exit the loop if the password is correct\n",
    "    else:\n",
    "        print(\"Incorrect password. Try again.\")\n",
    "        # Additional output after a wrong attempt:\n",
    "        "
   ]
  },
  {
   "cell_type": "code",
   "execution_count": null,
   "metadata": {},
   "outputs": [],
   "source": [
    "import math\n",
    "\n",
    "def series_sum(x, N):\n",
    "    \"\"\"\n",
    "    Calculates the sum of the series:\n",
    "      x*(5^(2*1))/(1+2!) + x*(5^(2*2))/(2+3!) + ... up to N terms.\n",
    "    \n",
    "    For the nth term:\n",
    "      term = x * 5^(2*n) / (n + (n+1)!)\n",
    "    \n",
    "    Parameters:\n",
    "      x : number to be multiplied with each term.\n",
    "      N : number of terms in the series.\n",
    "    \n",
    "    Returns:\n",
    "      The sum of the series.\n",
    "    \"\"\"\n",
    "    total = 0\n",
    "    for n in range(1, N + 1):\n",
    "        term = x * (5 ** (2 * n)) / (n + math.factorial(n + 1))\n",
    "        total += term\n",
    "    return total\n",
    "\n",
    "# Run the function with user inputs\n",
    "x = float(input(\"Enter the value for x: \"))\n",
    "N = int(input(\"Enter the number of terms (N): \"))\n",
    "\n",
    "result = series_sum(x, N)\n",
    "print(\"The sum of the series is:\", result)"
   ]
  },
  {
   "cell_type": "code",
   "execution_count": null,
   "metadata": {},
   "outputs": [],
   "source": [
    "import numpy as np\n",
    "import matplotlib.pyplot as plt\n",
    "import PIL\n",
    "import urllib\n",
    "import urllib.request\n",
    "import PIL.Image\n",
    "\n",
    "image_url = \"https://images.ctfassets.net/rt5zmd3ipxai/25pHfG94sGlRALOqbRvSxl/9f591d8263607fdf923b962cbfcde2a9/NVA-panda.jpg?fit=fill&fm=webp&h=678&w=1252&q=72\"\n",
    "\n",
    "image_data = urllib.request.urlopen(image_url)\n",
    "image = PIL.Image.open(image_data)\n",
    "np_image = np.array(image)\n",
    "plt.imshow(np_image)"
   ]
  }
 ],
 "metadata": {
  "kernelspec": {
   "display_name": "Python 3",
   "language": "python",
   "name": "python3"
  },
  "language_info": {
   "codemirror_mode": {
    "name": "ipython",
    "version": 3
   },
   "file_extension": ".py",
   "mimetype": "text/x-python",
   "name": "python",
   "nbconvert_exporter": "python",
   "pygments_lexer": "ipython3",
   "version": "3.12.1"
  }
 },
 "nbformat": 4,
 "nbformat_minor": 2
}
